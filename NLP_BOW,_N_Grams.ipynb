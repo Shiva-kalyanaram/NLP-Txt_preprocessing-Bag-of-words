{
  "nbformat": 4,
  "nbformat_minor": 0,
  "metadata": {
    "colab": {
      "provenance": [],
      "authorship_tag": "ABX9TyNXb7G3vE1FxcDeUiVaysvQ",
      "include_colab_link": true
    },
    "kernelspec": {
      "name": "python3",
      "display_name": "Python 3"
    },
    "language_info": {
      "name": "python"
    }
  },
  "cells": [
    {
      "cell_type": "markdown",
      "metadata": {
        "id": "view-in-github",
        "colab_type": "text"
      },
      "source": [
        "<a href=\"https://colab.research.google.com/github/Shiva-kalyanaram/NLP-Txt_preprocessing-Bag-of-words/blob/main/NLP_BOW%2C_N_Grams.ipynb\" target=\"_parent\"><img src=\"https://colab.research.google.com/assets/colab-badge.svg\" alt=\"Open In Colab\"/></a>"
      ]
    },
    {
      "cell_type": "code",
      "execution_count": 1,
      "metadata": {
        "colab": {
          "base_uri": "https://localhost:8080/"
        },
        "id": "yEbmmHUeFkKa",
        "outputId": "6de2512b-87b4-49fa-a623-e85650cbfadf"
      },
      "outputs": [
        {
          "output_type": "stream",
          "name": "stdout",
          "text": [
            "Requirement already satisfied: nltk in /usr/local/lib/python3.10/dist-packages (3.8.1)\n",
            "Requirement already satisfied: click in /usr/local/lib/python3.10/dist-packages (from nltk) (8.1.7)\n",
            "Requirement already satisfied: joblib in /usr/local/lib/python3.10/dist-packages (from nltk) (1.3.2)\n",
            "Requirement already satisfied: regex>=2021.8.3 in /usr/local/lib/python3.10/dist-packages (from nltk) (2023.12.25)\n",
            "Requirement already satisfied: tqdm in /usr/local/lib/python3.10/dist-packages (from nltk) (4.66.2)\n"
          ]
        }
      ],
      "source": [
        "pip install nltk"
      ]
    },
    {
      "cell_type": "code",
      "source": [
        "#Basic libraries to do Bag of words;\n",
        "\n",
        "import nltk\n",
        "from nltk.stem import PorterStemmer\n",
        "from nltk.corpus import stopwords\n",
        "nltk.download('stopwords')\n",
        "from nltk.stem import WordNetLemmatizer\n",
        "nltk.download('wordnet')"
      ],
      "metadata": {
        "colab": {
          "base_uri": "https://localhost:8080/"
        },
        "id": "Vu1cIRMYGnNv",
        "outputId": "b6e4b854-8a5c-4020-c3cb-1c62bee8eb64"
      },
      "execution_count": 27,
      "outputs": [
        {
          "output_type": "stream",
          "name": "stderr",
          "text": [
            "[nltk_data] Downloading package stopwords to /root/nltk_data...\n",
            "[nltk_data]   Package stopwords is already up-to-date!\n",
            "[nltk_data] Downloading package wordnet to /root/nltk_data...\n"
          ]
        },
        {
          "output_type": "execute_result",
          "data": {
            "text/plain": [
              "True"
            ]
          },
          "metadata": {},
          "execution_count": 27
        }
      ]
    },
    {
      "cell_type": "code",
      "source": [
        "paragraph_corpus = \"\"\"In 2010, Silambarasan sang and composed the song \"Evan Di Unna Pethan\" as a part of the soundtrack album for his film, Vaanam (2011) and the song faced severe opposition for its provocative lyrics. A women's rights organisation in Chennai criticised the lyrics and issued a statement to Silambarasan for the lyrics being \"chauvinistic\" that \"demean women\". Further it was argued that \"music needs to appeal to larger sections than to the ‘thrill-seeking’ youth who are often misguided into ‘cheap thrills’ because of such songs\", demanding censorship.[38] However, several prominent people from the film industry came to support Silambarasan stating that there have been more objectionable scenes in films in the past and that there were \"bigger issues in society\" and applying censorship was not \"the ideal way out in democracy.\"[38]\n",
        "\n",
        "After releasing a promotional version of \"The Love Anthem\" song in 2011, Silambarasan announced that a final version would be released thereafter and announced his desire to bring in international artists Akon and Rihanna for the venture.[39] He subsequently headed to Los Angeles in January 2012 and recorded an original version of the song by himself at Studio Zappa with music producer Elan Morrison on the keyboards.[40] The failure to sign in the international artists prompted the project's producer, Silambarasan's father T. Rajendar to lodge a police complaint against two agents who had misled his production company into supposed connections with the international artists concerned. Rajendar noted that the sound editor Ramji Soma and a Canadian entrepreneur Talvinder Bathh had charged Rs 12 million ($200,000) from his company and failed to return it despite promises made to sign on Akon, David Guetta and either Rihanna or Nicole Scherzinger for the project.[41] In May 2013, Silambarasan was finally successfully able to bring in Akon to collaborate for an alternate version of the song, with the move being facilitated by Tracktical Entertainment.[42] The latest version of the song is yet to be released, with Silambarasan hinting in early 2014 that the song may be launched before the end of 2014.[43] In an interview in June 2015, he revealed that the venture would be resumed soon, though that he was busy with other commitments.[44]\n",
        "\n",
        "In December 2015, a song, referred to by the media as the \"Beep Song\" was leaked online and was widely circulated. The song was initially reported to be written and sung by Silambarasan and composed by music director Anirudh Ravichander, and featured an expletive degrading women which had been beeped out. Subsequently, Anirudh denied any involvement in the song and Silambarasan clarified that he had written, composed and sung the song himself, stating he was unsure how the song was leaked and uploaded onto the internet.[45] The song provoked widespread criticism from pressure groups and film personalities. Women activists organised protests in front of Silambarasan house in T. Nagar and other places.[46] Meanwhile, the Left-wing of All India Democratic Women's Association (AIDWA) alleged that the song was sexist and derogatory to women and filed a case against Silambarasan in Coimbatore.[47] Based on the complaint, The Racecourse Police Station registered FIR against the actor and Anirudh. Likewise, the Cyber Crime Police in Egmore also registered a similar case against them. Silambarasan stated on his Twitter page that he will not hide anywhere and will face the course of law. However, he failed to appear in the Racecourse Police station on 19 December 2015 as per the summons sent to him. Fearing arrest, Silambarasan had moved the case to the Madras High Court for anticipatory bail.[48] The Madras High Court consequently refused to issue an interim stay to arrest Silambarasan.[49] In late February 2016, Silambarasan appeared before the Coimbatore City police in connection with the \"Beep Song\" case and claimed that he had composed the song long ago when he was depressed due to a love failure; he further stated that Anirudh had no role in it.[50]\"\"\""
      ],
      "metadata": {
        "id": "KW309CCuGJNo"
      },
      "execution_count": 2,
      "outputs": []
    },
    {
      "cell_type": "code",
      "source": [
        "paragraph_corpus"
      ],
      "metadata": {
        "colab": {
          "base_uri": "https://localhost:8080/",
          "height": 105
        },
        "id": "UQutIXkkGZAW",
        "outputId": "a1741081-0c98-4cb4-f543-397af1823d55"
      },
      "execution_count": 3,
      "outputs": [
        {
          "output_type": "execute_result",
          "data": {
            "text/plain": [
              "'In 2010, Silambarasan sang and composed the song \"Evan Di Unna Pethan\" as a part of the soundtrack album for his film, Vaanam (2011) and the song faced severe opposition for its provocative lyrics. A women\\'s rights organisation in Chennai criticised the lyrics and issued a statement to Silambarasan for the lyrics being \"chauvinistic\" that \"demean women\". Further it was argued that \"music needs to appeal to larger sections than to the ‘thrill-seeking’ youth who are often misguided into ‘cheap thrills’ because of such songs\", demanding censorship.[38] However, several prominent people from the film industry came to support Silambarasan stating that there have been more objectionable scenes in films in the past and that there were \"bigger issues in society\" and applying censorship was not \"the ideal way out in democracy.\"[38]\\n\\nAfter releasing a promotional version of \"The Love Anthem\" song in 2011, Silambarasan announced that a final version would be released thereafter and announced his desire to bring in international artists Akon and Rihanna for the venture.[39] He subsequently headed to Los Angeles in January 2012 and recorded an original version of the song by himself at Studio Zappa with music producer Elan Morrison on the keyboards.[40] The failure to sign in the international artists prompted the project\\'s producer, Silambarasan\\'s father T. Rajendar to lodge a police complaint against two agents who had misled his production company into supposed connections with the international artists concerned. Rajendar noted that the sound editor Ramji Soma and a Canadian entrepreneur Talvinder Bathh had charged Rs 12 million ($200,000) from his company and failed to return it despite promises made to sign on Akon, David Guetta and either Rihanna or Nicole Scherzinger for the project.[41] In May 2013, Silambarasan was finally successfully able to bring in Akon to collaborate for an alternate version of the song, with the move being facilitated by Tracktical Entertainment.[42] The latest version of the song is yet to be released, with Silambarasan hinting in early 2014 that the song may be launched before the end of 2014.[43] In an interview in June 2015, he revealed that the venture would be resumed soon, though that he was busy with other commitments.[44]\\n\\nIn December 2015, a song, referred to by the media as the \"Beep Song\" was leaked online and was widely circulated. The song was initially reported to be written and sung by Silambarasan and composed by music director Anirudh Ravichander, and featured an expletive degrading women which had been beeped out. Subsequently, Anirudh denied any involvement in the song and Silambarasan clarified that he had written, composed and sung the song himself, stating he was unsure how the song was leaked and uploaded onto the internet.[45] The song provoked widespread criticism from pressure groups and film personalities. Women activists organised protests in front of Silambarasan house in T. Nagar and other places.[46] Meanwhile, the Left-wing of All India Democratic Women\\'s Association (AIDWA) alleged that the song was sexist and derogatory to women and filed a case against Silambarasan in Coimbatore.[47] Based on the complaint, The Racecourse Police Station registered FIR against the actor and Anirudh. Likewise, the Cyber Crime Police in Egmore also registered a similar case against them. Silambarasan stated on his Twitter page that he will not hide anywhere and will face the course of law. However, he failed to appear in the Racecourse Police station on 19 December 2015 as per the summons sent to him. Fearing arrest, Silambarasan had moved the case to the Madras High Court for anticipatory bail.[48] The Madras High Court consequently refused to issue an interim stay to arrest Silambarasan.[49] In late February 2016, Silambarasan appeared before the Coimbatore City police in connection with the \"Beep Song\" case and claimed that he had composed the song long ago when he was depressed due to a love failure; he further stated that Anirudh had no role in it.[50]'"
            ],
            "application/vnd.google.colaboratory.intrinsic+json": {
              "type": "string"
            }
          },
          "metadata": {},
          "execution_count": 3
        }
      ]
    },
    {
      "cell_type": "code",
      "source": [
        "#Tokenization - convert paragraph or sentances into words\n",
        "nltk.download('punkt') # ------- to use tokenization in NLTK, we need to download the package called nltk.download('punkt')\n"
      ],
      "metadata": {
        "colab": {
          "base_uri": "https://localhost:8080/"
        },
        "id": "_g44XrQXG9m3",
        "outputId": "e1b4763c-abf5-4075-dd46-9d539e873937"
      },
      "execution_count": 6,
      "outputs": [
        {
          "output_type": "stream",
          "name": "stderr",
          "text": [
            "[nltk_data] Downloading package punkt to /root/nltk_data...\n",
            "[nltk_data]   Unzipping tokenizers/punkt.zip.\n"
          ]
        },
        {
          "output_type": "execute_result",
          "data": {
            "text/plain": [
              "True"
            ]
          },
          "metadata": {},
          "execution_count": 6
        }
      ]
    },
    {
      "cell_type": "code",
      "source": [
        "sentances = nltk.sent_tokenize(paragraph_corpus)\n",
        "sentances[:5]"
      ],
      "metadata": {
        "colab": {
          "base_uri": "https://localhost:8080/"
        },
        "id": "YB9TINlgG-Ik",
        "outputId": "93f7a0ee-e05b-4696-aabd-fb47f0208b42"
      },
      "execution_count": 8,
      "outputs": [
        {
          "output_type": "execute_result",
          "data": {
            "text/plain": [
              "['In 2010, Silambarasan sang and composed the song \"Evan Di Unna Pethan\" as a part of the soundtrack album for his film, Vaanam (2011) and the song faced severe opposition for its provocative lyrics.',\n",
              " 'A women\\'s rights organisation in Chennai criticised the lyrics and issued a statement to Silambarasan for the lyrics being \"chauvinistic\" that \"demean women\".',\n",
              " 'Further it was argued that \"music needs to appeal to larger sections than to the ‘thrill-seeking’ youth who are often misguided into ‘cheap thrills’ because of such songs\", demanding censorship.',\n",
              " '[38] However, several prominent people from the film industry came to support Silambarasan stating that there have been more objectionable scenes in films in the past and that there were \"bigger issues in society\" and applying censorship was not \"the ideal way out in democracy.',\n",
              " '\"[38]\\n\\nAfter releasing a promotional version of \"The Love Anthem\" song in 2011, Silambarasan announced that a final version would be released thereafter and announced his desire to bring in international artists Akon and Rihanna for the venture.']"
            ]
          },
          "metadata": {},
          "execution_count": 8
        }
      ]
    },
    {
      "cell_type": "code",
      "source": [
        "len(sentances)"
      ],
      "metadata": {
        "colab": {
          "base_uri": "https://localhost:8080/"
        },
        "id": "ZIpPNIlbJZ_M",
        "outputId": "760a8ed0-842f-4216-80ca-6907fddc9e99"
      },
      "execution_count": 9,
      "outputs": [
        {
          "output_type": "execute_result",
          "data": {
            "text/plain": [
              "25"
            ]
          },
          "metadata": {},
          "execution_count": 9
        }
      ]
    },
    {
      "cell_type": "code",
      "source": [
        "# to clean the sentances, here using Regular expressions.\n",
        "\n",
        "import re\n",
        "\n",
        "corpus = []\n",
        "\n",
        "for i in range(len(sentances)):\n",
        "  review = re.sub('[^a-zA-Z]', ' ', sentances[i])\n",
        "  review= review.lower()\n",
        "  corpus.append(review)"
      ],
      "metadata": {
        "id": "SobCWSl3Iv3F"
      },
      "execution_count": 14,
      "outputs": []
    },
    {
      "cell_type": "code",
      "source": [
        "corpus[:5]"
      ],
      "metadata": {
        "colab": {
          "base_uri": "https://localhost:8080/"
        },
        "id": "jiabEUdJKSOM",
        "outputId": "622387f2-2734-4c6a-f83b-08f5270484b7"
      },
      "execution_count": 16,
      "outputs": [
        {
          "output_type": "execute_result",
          "data": {
            "text/plain": [
              "['in       silambarasan sang and composed the song  evan di unna pethan  as a part of the soundtrack album for his film  vaanam        and the song faced severe opposition for its provocative lyrics ',\n",
              " 'a women s rights organisation in chennai criticised the lyrics and issued a statement to silambarasan for the lyrics being  chauvinistic  that  demean women  ',\n",
              " 'further it was argued that  music needs to appeal to larger sections than to the  thrill seeking  youth who are often misguided into  cheap thrills  because of such songs   demanding censorship ',\n",
              " '     however  several prominent people from the film industry came to support silambarasan stating that there have been more objectionable scenes in films in the past and that there were  bigger issues in society  and applying censorship was not  the ideal way out in democracy ',\n",
              " '       after releasing a promotional version of  the love anthem  song in       silambarasan announced that a final version would be released thereafter and announced his desire to bring in international artists akon and rihanna for the venture ']"
            ]
          },
          "metadata": {},
          "execution_count": 16
        }
      ]
    },
    {
      "cell_type": "code",
      "source": [
        "# stemming\n",
        "\n",
        "stemmer = PorterStemmer()\n",
        "# stemmer.stem('history')"
      ],
      "metadata": {
        "colab": {
          "base_uri": "https://localhost:8080/",
          "height": 35
        },
        "id": "2AjL7_DNKsGU",
        "outputId": "3654a7df-f326-498b-8e3a-5197a1cf843a"
      },
      "execution_count": 18,
      "outputs": [
        {
          "output_type": "execute_result",
          "data": {
            "text/plain": [
              "'histori'"
            ],
            "application/vnd.google.colaboratory.intrinsic+json": {
              "type": "string"
            }
          },
          "metadata": {},
          "execution_count": 18
        }
      ]
    },
    {
      "cell_type": "code",
      "source": [
        "# stopwords.words('english')"
      ],
      "metadata": {
        "id": "vHu4ure6Ll3a"
      },
      "execution_count": null,
      "outputs": []
    },
    {
      "cell_type": "code",
      "source": [
        "#applying stemming for all the tokens.\n",
        "\n",
        "\n",
        "for i in corpus:\n",
        "  words = nltk.word_tokenize(i)\n",
        "  for word in words:\n",
        "    if word not in set(stopwords.words('english')):\n",
        "      print(stemmer.stem(word))\n"
      ],
      "metadata": {
        "id": "wAv7nle3LAUq"
      },
      "execution_count": null,
      "outputs": []
    },
    {
      "cell_type": "code",
      "source": [
        "## Lemmatization\n",
        "\n",
        "\n",
        "\n",
        "lemmatizer = WordNetLemmatizer()\n",
        "\n",
        "for i in corpus:\n",
        "  words = nltk.word_tokenize(i)\n",
        "  for word in words:\n",
        "    if word not in set(stopwords.words('english')):\n",
        "      print(lemmatizer.lemmatize(word))"
      ],
      "metadata": {
        "id": "mwibD0HqLOzu"
      },
      "execution_count": null,
      "outputs": []
    },
    {
      "cell_type": "code",
      "source": [
        "## Bag of words(BOW)\n",
        "\n",
        "\n",
        "from sklearn.feature_extraction.text import CountVectorizer\n",
        "\n",
        "cv = CountVectorizer()"
      ],
      "metadata": {
        "id": "cC4lVlYWN7Ip"
      },
      "execution_count": 31,
      "outputs": []
    },
    {
      "cell_type": "code",
      "source": [
        "x= cv.fit_transform(corpus)"
      ],
      "metadata": {
        "id": "MZNyfHCCOMKu"
      },
      "execution_count": 32,
      "outputs": []
    },
    {
      "cell_type": "code",
      "source": [
        "cv.vocabulary_ # it will assign the index to all the unique words"
      ],
      "metadata": {
        "id": "YM9oCyKEOvWH"
      },
      "execution_count": null,
      "outputs": []
    },
    {
      "cell_type": "code",
      "source": [
        "corpus[0]"
      ],
      "metadata": {
        "colab": {
          "base_uri": "https://localhost:8080/",
          "height": 35
        },
        "id": "Zr7um-i2OwhA",
        "outputId": "f2f4ada0-616c-4950-bfad-a4ced07295e2"
      },
      "execution_count": 37,
      "outputs": [
        {
          "output_type": "execute_result",
          "data": {
            "text/plain": [
              "'in       silambarasan sang and composed the song  evan di unna pethan  as a part of the soundtrack album for his film  vaanam        and the song faced severe opposition for its provocative lyrics '"
            ],
            "application/vnd.google.colaboratory.intrinsic+json": {
              "type": "string"
            }
          },
          "metadata": {},
          "execution_count": 37
        }
      ]
    },
    {
      "cell_type": "code",
      "source": [
        "x[0].toarray()"
      ],
      "metadata": {
        "colab": {
          "base_uri": "https://localhost:8080/"
        },
        "id": "7gRfKTVQPTCn",
        "outputId": "d41de7c0-d026-4c9d-d998-4f14f530f51b"
      },
      "execution_count": 39,
      "outputs": [
        {
          "output_type": "execute_result",
          "data": {
            "text/plain": [
              "array([[0, 0, 0, 0, 0, 0, 0, 0, 0, 1, 0, 0, 0, 0, 0, 2, 0, 0, 0, 0, 0, 0,\n",
              "        0, 0, 0, 0, 0, 0, 0, 0, 0, 1, 0, 0, 0, 0, 0, 0, 0, 0, 0, 0, 0, 0,\n",
              "        0, 0, 0, 0, 0, 0, 0, 0, 0, 0, 0, 0, 0, 0, 0, 0, 0, 0, 0, 0, 0, 1,\n",
              "        0, 0, 0, 0, 0, 0, 0, 0, 0, 0, 0, 0, 0, 0, 0, 0, 0, 0, 0, 0, 0, 0,\n",
              "        1, 0, 0, 0, 0, 0, 0, 0, 0, 0, 0, 1, 0, 0, 1, 0, 0, 0, 0, 0, 0, 0,\n",
              "        0, 1, 0, 0, 0, 0, 2, 0, 0, 0, 0, 0, 0, 0, 0, 0, 0, 0, 0, 0, 0, 1,\n",
              "        0, 0, 0, 0, 1, 0, 0, 0, 0, 0, 0, 0, 0, 0, 0, 0, 0, 0, 0, 1, 0, 0,\n",
              "        0, 0, 0, 0, 0, 0, 0, 0, 0, 0, 0, 0, 0, 1, 0, 0, 0, 0, 0, 0, 0, 0,\n",
              "        0, 0, 0, 0, 0, 0, 0, 0, 0, 0, 0, 0, 1, 0, 0, 0, 0, 1, 0, 0, 0, 0,\n",
              "        0, 0, 0, 1, 0, 0, 0, 0, 1, 0, 0, 0, 0, 0, 0, 0, 0, 0, 0, 0, 1, 0,\n",
              "        0, 0, 0, 0, 0, 0, 0, 0, 0, 0, 0, 0, 0, 0, 0, 0, 0, 0, 1, 0, 0, 0,\n",
              "        0, 0, 0, 1, 0, 0, 1, 0, 0, 0, 2, 0, 0, 0, 1, 0, 0, 0, 0, 0, 0, 0,\n",
              "        0, 0, 0, 0, 0, 0, 0, 0, 0, 3, 0, 0, 0, 0, 0, 0, 0, 0, 0, 0, 1, 0,\n",
              "        0, 1, 0, 0, 0, 0, 0, 0, 0, 0, 0, 0, 0, 0, 0, 0, 0, 0, 0, 0, 0]])"
            ]
          },
          "metadata": {},
          "execution_count": 39
        }
      ]
    },
    {
      "cell_type": "code",
      "source": [],
      "metadata": {
        "id": "ruA8cM3TPXyR"
      },
      "execution_count": null,
      "outputs": []
    }
  ]
}